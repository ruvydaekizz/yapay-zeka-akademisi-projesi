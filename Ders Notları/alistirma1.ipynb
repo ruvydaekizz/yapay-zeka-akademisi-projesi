{
 "cells": [
  {
   "cell_type": "markdown",
   "id": "7c39685e-27d1-4cdd-afd4-123ffde973f4",
   "metadata": {},
   "source": [
    "# **Python Veri Tipleri – Temel Türler ve Örnekler**"
   ]
  },
  {
   "cell_type": "markdown",
   "id": "9f8ec491-4dc6-43c7-b45a-f52e606b03e3",
   "metadata": {},
   "source": [
    "### 1. Tam Sayı (Integer - int)\n",
    "Açıklama: Ondalık kısmı olmayan sayılar.\n",
    "\n",
    "🧠 Kullanım Alanı: Yaş, miktar, sıra numarası, sayaçlar..."
   ]
  },
  {
   "cell_type": "code",
   "execution_count": 1,
   "id": "b842d331-f52a-4f93-be22-df1654183671",
   "metadata": {},
   "outputs": [
    {
     "name": "stdout",
     "output_type": "stream",
     "text": [
      "<class 'int'>\n"
     ]
    }
   ],
   "source": [
    "yas = 30\n",
    "print(type(yas))"
   ]
  },
  {
   "cell_type": "markdown",
   "id": "83e0e984-8e47-485f-8f54-eb4de6e5cb62",
   "metadata": {},
   "source": [
    "### 2. Ondalıklı Sayı (Float - float)\n",
    "Açıklama: Ondalıklı yani küsuratlı sayılar. \n",
    "\n",
    "🧠 Kullanım Alanı: Ölçümler, fiyatlar, yüzdeler..."
   ]
  },
  {
   "cell_type": "code",
   "execution_count": 2,
   "id": "ba7f499f-5b5c-404e-9245-b1bd96f9d632",
   "metadata": {},
   "outputs": [
    {
     "name": "stdout",
     "output_type": "stream",
     "text": [
      "1.75\n",
      "<class 'float'>\n"
     ]
    }
   ],
   "source": [
    "boy = 1.75\n",
    "print(boy)\n",
    "print(type(boy))"
   ]
  },
  {
   "cell_type": "markdown",
   "id": "33f2d731-3d3d-4d7e-ae5b-54cbe683c9b8",
   "metadata": {},
   "source": [
    "### 3. Metin (String - str)\n",
    "Açıklama: Çift veya tek tırnak arasına yazılan karakterler dizisi. \n",
    "\n",
    "🧠 Kullanım Alanı: İsimler, açıklamalar, adresler, yazılar..."
   ]
  },
  {
   "cell_type": "code",
   "execution_count": 3,
   "id": "b9205aed-3f17-4688-8465-7fcd61027415",
   "metadata": {},
   "outputs": [
    {
     "name": "stdout",
     "output_type": "stream",
     "text": [
      "Zeynep\n",
      "<class 'str'>\n"
     ]
    }
   ],
   "source": [
    "isim = \"Zeynep\"\n",
    "print(isim)\n",
    "print(type(isim))"
   ]
  },
  {
   "cell_type": "markdown",
   "id": "3da1d2a2-137e-4ea9-88d8-233032d5cca7",
   "metadata": {},
   "source": [
    "### 4. Mantıksal (Boolean - bool)\n",
    "Açıklama: Sadece iki değer alır: True veya False\n",
    "\n",
    "🧠 Kullanım Alanı: Koşullar, kontrol yapıları, seçimler..."
   ]
  },
  {
   "cell_type": "code",
   "execution_count": 4,
   "id": "2c2cd0b0-0251-4dd6-af99-98dbefc45aa7",
   "metadata": {},
   "outputs": [
    {
     "name": "stdout",
     "output_type": "stream",
     "text": [
      "True\n",
      "<class 'bool'>\n"
     ]
    }
   ],
   "source": [
    "aktif_mi = True\n",
    "print(aktif_mi)\n",
    "print(type(aktif_mi))"
   ]
  },
  {
   "cell_type": "markdown",
   "id": "e582e50a-85f8-4549-a941-427796575803",
   "metadata": {},
   "source": [
    "### 5. Liste (List - list)\n",
    "Açıklama: Birden fazla değeri sırayla tutan yapılardır. Değiştirilebilir (mutable). Örnek:\n",
    "\n",
    "renkler = [\"kırmızı\", \"mavi\", \"yeşil\"]\n",
    "\n",
    "print(type(renkler))  # <class 'list'>\n",
    "\n",
    "print(renkler[0])     # kırmızı\n",
    "\n",
    "renkler.append(\"sarı\")  # yeni eleman ekleme\n",
    "\n",
    "🧠 Kullanım Alanı: Öğrenci listesi, alışveriş sepeti, notlar..."
   ]
  },
  {
   "cell_type": "code",
   "execution_count": 5,
   "id": "770f05cf-bc5a-4a6b-9a4e-d476a0cdfee9",
   "metadata": {},
   "outputs": [
    {
     "name": "stdout",
     "output_type": "stream",
     "text": [
      "['kırmızı', 'mavi', 'yeşil']\n",
      "<class 'list'>\n"
     ]
    }
   ],
   "source": [
    "renkler = [\"kırmızı\", \"mavi\", \"yeşil\"]\n",
    "print(renkler)\n",
    "print(type(renkler))"
   ]
  },
  {
   "cell_type": "code",
   "execution_count": 6,
   "id": "97e14f65-a15e-4287-94c4-c95ae278f1f9",
   "metadata": {},
   "outputs": [
    {
     "name": "stdout",
     "output_type": "stream",
     "text": [
      "kırmızı\n"
     ]
    }
   ],
   "source": [
    "print(renkler[0])"
   ]
  },
  {
   "cell_type": "code",
   "execution_count": 7,
   "id": "63f5e2fe-992d-4f93-98d4-3a32ac9c8b83",
   "metadata": {},
   "outputs": [],
   "source": [
    "renkler.append(\"sarı\")"
   ]
  },
  {
   "cell_type": "code",
   "execution_count": 8,
   "id": "f22e99e8-e206-4597-9ea8-78cb2561fe83",
   "metadata": {},
   "outputs": [
    {
     "name": "stdout",
     "output_type": "stream",
     "text": [
      "['kırmızı', 'mavi', 'yeşil', 'sarı']\n"
     ]
    }
   ],
   "source": [
    "print(renkler)"
   ]
  },
  {
   "cell_type": "markdown",
   "id": "a2a90d45-7f79-408f-9d76-787c13848081",
   "metadata": {},
   "source": [
    "### 6. Demet (Tuple - tuple)\n",
    "Açıklama: Listelere benzer ama değiştirilemez (immutable). Örnek:\n",
    "\n",
    "koordinat = (10, 20)\n",
    "\n",
    "print(type(koordinat))  # <class 'tuple'>\n",
    "\n",
    "print(koordinat[1])     # 20\n",
    "\n",
    "🧠 Kullanım Alanı: Sabit veriler, koordinatlar, ayarlar...\n",
    "\n"
   ]
  },
  {
   "cell_type": "code",
   "execution_count": 9,
   "id": "5040f601-d6c7-4cc0-8db8-ce7ef8e1c26e",
   "metadata": {},
   "outputs": [
    {
     "name": "stdout",
     "output_type": "stream",
     "text": [
      "74.006\n",
      "<class 'tuple'>\n"
     ]
    }
   ],
   "source": [
    "koordinat = (40.7128, 74.0060)\n",
    "\n",
    "print(koordinat[1])\n",
    "print(type(koordinat))"
   ]
  },
  {
   "cell_type": "markdown",
   "id": "92424904-71d7-49fe-b9c8-9eee908aaccc",
   "metadata": {},
   "source": [
    "### 7. Sözlük (Dictionary - dict)\n",
    "Açıklama: Anahtar-değer çiftleriyle veri saklayan yapıdır. Örnek:\n",
    "\n",
    "ogrenci = {\n",
    "    \"ad\": \"Zeynep\",\n",
    "    \"yas\": 22,\n",
    "    \"aktif\": True\n",
    "}\n",
    "\n",
    "print(type(ogrenci))       # <class 'dict'>\n",
    "\n",
    "print(ogrenci[\"yas\"])      # 22\n",
    "\n",
    "🧠 Kullanım Alanı: Profil bilgileri, yapılandırmalar..."
   ]
  },
  {
   "cell_type": "code",
   "execution_count": 10,
   "id": "05a1a9b4-2ab8-4623-ac63-2ca6df4dd875",
   "metadata": {},
   "outputs": [
    {
     "name": "stdout",
     "output_type": "stream",
     "text": [
      "21\n",
      "<class 'dict'>\n"
     ]
    }
   ],
   "source": [
    "ogrenci = {\"ad\": \"Ahmet\", \"yas\": 21}\n",
    "print(ogrenci[\"yas\"])\n",
    "print(type(ogrenci))"
   ]
  },
  {
   "cell_type": "markdown",
   "id": "94cd5b20-62e0-46d4-9be4-ff41d8e7a571",
   "metadata": {},
   "source": [
    "### 8. Küme (Set - set)\n",
    "\n",
    "Açıklama: Benzersiz (tekrarsız) değerlerden oluşur, sırasızdır. Örnek:\n",
    "\n",
    "sayilar = {1, 2, 3, 3, 2}\n",
    "\n",
    "print(type(sayilar))  # <class 'set'>\n",
    "\n",
    "print(sayilar)        # {1, 2, 3}\n",
    "\n",
    "🧠 Kullanım Alanı: Yinelenmeyen öğeleri saklamak, kümelerle işlem yapmak..."
   ]
  },
  {
   "cell_type": "code",
   "execution_count": 11,
   "id": "682b36f4-8326-4c03-8cea-df33b16ec5ae",
   "metadata": {},
   "outputs": [
    {
     "name": "stdout",
     "output_type": "stream",
     "text": [
      "{1, 2, 3}\n",
      "<class 'set'>\n"
     ]
    }
   ],
   "source": [
    "sayilar = {1, 2, 3, 2, 1}\n",
    "\n",
    "print(sayilar)\n",
    "print(type(sayilar))"
   ]
  },
  {
   "cell_type": "markdown",
   "id": "f115fbd7-e07d-4034-aa46-0ba65670c420",
   "metadata": {},
   "source": [
    "# **Koşullu İfadeler (if - elif - else)**"
   ]
  },
  {
   "cell_type": "markdown",
   "id": "48d522c0-8784-40df-ae3a-1e9fc7455fbd",
   "metadata": {},
   "source": [
    "### Örnekler:"
   ]
  },
  {
   "cell_type": "code",
   "execution_count": 12,
   "id": "6734f959-d37d-4534-a047-eccc4e01318f",
   "metadata": {},
   "outputs": [
    {
     "name": "stdout",
     "output_type": "stream",
     "text": [
      "Negatif\n"
     ]
    }
   ],
   "source": [
    "# Pozitif, negatif veya sıfır kontrolü\n",
    "\n",
    "sayi = -5\n",
    "\n",
    "if sayi > 0:\n",
    "    print(\"Pozitif\")\n",
    "elif sayi == 0:\n",
    "    print(\"Sıfır\")\n",
    "else:\n",
    "    print(\"Negatif\")\n"
   ]
  },
  {
   "cell_type": "code",
   "execution_count": 13,
   "id": "62fa7060-f75c-4394-82a2-5a74a0cea553",
   "metadata": {},
   "outputs": [
    {
     "name": "stdout",
     "output_type": "stream",
     "text": [
      "Reşitsiniz.\n"
     ]
    }
   ],
   "source": [
    "# Kullanıcının yaşına göre mesaj verme\n",
    "yas = 18\n",
    "\n",
    "if yas < 18:\n",
    "    print(\"Reşit değilsiniz.\")\n",
    "else:\n",
    "    print(\"Reşitsiniz.\")"
   ]
  },
  {
   "cell_type": "markdown",
   "id": "9793e43e-a3db-432a-951c-6599f1fbdf74",
   "metadata": {},
   "source": [
    "# **for Döngüsü**"
   ]
  },
  {
   "cell_type": "code",
   "execution_count": 14,
   "id": "11a03a07-bf15-4b9b-a2cb-729f49c3a4ae",
   "metadata": {},
   "outputs": [
    {
     "name": "stdout",
     "output_type": "stream",
     "text": [
      "elma\n",
      "muz\n",
      "çilek\n"
     ]
    }
   ],
   "source": [
    "# Liste elemanlarını yazdırma\n",
    "\n",
    "meyveler = [\"elma\", \"muz\", \"çilek\"]\n",
    "\n",
    "for meyve in meyveler:\n",
    "    print(meyve)"
   ]
  },
  {
   "cell_type": "code",
   "execution_count": 15,
   "id": "18f6eeb5-b7a9-4567-9a7b-c4c404b4a863",
   "metadata": {},
   "outputs": [
    {
     "name": "stdout",
     "output_type": "stream",
     "text": [
      "1\n",
      "2\n",
      "3\n",
      "4\n",
      "5\n"
     ]
    }
   ],
   "source": [
    "# 1'den 5'e kadar sayı yazdırma\n",
    "\n",
    "for i in range(1, 6):\n",
    "    print(i)"
   ]
  },
  {
   "cell_type": "code",
   "execution_count": 16,
   "id": "f5aebb10-8c67-4e5f-a027-7cf9eb03a19b",
   "metadata": {},
   "outputs": [
    {
     "name": "stdout",
     "output_type": "stream",
     "text": [
      "2 çift sayıdır.\n",
      "4 çift sayıdır.\n",
      "6 çift sayıdır.\n",
      "8 çift sayıdır.\n",
      "10 çift sayıdır.\n"
     ]
    }
   ],
   "source": [
    "# Çift sayıları yazdırma\n",
    "\n",
    "for i in range(1, 11):\n",
    "    if i % 2 == 0:\n",
    "        print(i, \"çift sayıdır.\")"
   ]
  },
  {
   "cell_type": "markdown",
   "id": "0c2e74a3-5324-44ba-9bf6-b09b74309622",
   "metadata": {},
   "source": [
    "# **while Döngüsü**"
   ]
  },
  {
   "cell_type": "code",
   "execution_count": 17,
   "id": "a8680e0f-ceac-4c23-9bc6-0efdd489df29",
   "metadata": {},
   "outputs": [
    {
     "name": "stdout",
     "output_type": "stream",
     "text": [
      "0\n",
      "1\n",
      "2\n",
      "3\n",
      "4\n"
     ]
    }
   ],
   "source": [
    "# 0'dan 4'e kadar sayıları yazdırma (Sayaç örneği)\n",
    "sayi = 0\n",
    "\n",
    "while sayi < 5:\n",
    "    print(sayi)\n",
    "    sayi += 1"
   ]
  },
  {
   "cell_type": "code",
   "execution_count": 18,
   "id": "845570bd-77e8-44ca-821c-ed69d52ec3ea",
   "metadata": {},
   "outputs": [
    {
     "name": "stdin",
     "output_type": "stream",
     "text": [
      "Şifreyi girin:  1234\n"
     ]
    },
    {
     "name": "stdout",
     "output_type": "stream",
     "text": [
      "Doğru şifre!\n"
     ]
    }
   ],
   "source": [
    "# Kullanıcı doğru şifre girene kadar döngü\n",
    "sifre = \"\"\n",
    "\n",
    "while sifre != \"1234\":\n",
    "    sifre = input(\"Şifreyi girin: \")\n",
    "print(\"Doğru şifre!\")"
   ]
  },
  {
   "cell_type": "code",
   "execution_count": 19,
   "id": "e6c2f68e-19f3-4d75-9677-e6d29ba7675d",
   "metadata": {},
   "outputs": [
    {
     "name": "stdout",
     "output_type": "stream",
     "text": [
      "Yanlış şifre: 0000\n",
      "Doğru şifre!\n"
     ]
    }
   ],
   "source": [
    "# Şifre kontrolü (simülasyonlu)\n",
    "\n",
    "sifre = \"0000\"\n",
    "deneme = \"1234\"\n",
    "while sifre != deneme:\n",
    "    print(\"Yanlış şifre:\", sifre)\n",
    "    sifre = \"1234\"  # (normalde input() kullanılır)\n",
    "print(\"Doğru şifre!\")"
   ]
  },
  {
   "cell_type": "code",
   "execution_count": 20,
   "id": "b2b2313a-8bce-4f04-9906-1c80ac4d3b29",
   "metadata": {},
   "outputs": [
    {
     "name": "stdin",
     "output_type": "stream",
     "text": [
      "Şifreyi girin:  4565\n"
     ]
    },
    {
     "name": "stdout",
     "output_type": "stream",
     "text": [
      "Yanlış şifre. Kalan deneme hakkı: 2\n"
     ]
    },
    {
     "name": "stdin",
     "output_type": "stream",
     "text": [
      "Şifreyi girin:  8789\n"
     ]
    },
    {
     "name": "stdout",
     "output_type": "stream",
     "text": [
      "Yanlış şifre. Kalan deneme hakkı: 1\n"
     ]
    },
    {
     "name": "stdin",
     "output_type": "stream",
     "text": [
      "Şifreyi girin:  5874\n"
     ]
    },
    {
     "name": "stdout",
     "output_type": "stream",
     "text": [
      "Yanlış şifre. Kalan deneme hakkı: 0\n",
      "Hesabınız kilitlendi. Lütfen daha sonra tekrar deneyin.\n"
     ]
    }
   ],
   "source": [
    "# Örnek 7: Şifre kontrolü (input ile, 3 deneme hakkı)\n",
    "dogru_sifre = \"1234\"\n",
    "hak = 3\n",
    "\n",
    "while hak > 0:\n",
    "    sifre = input(\"Şifreyi girin: \")\n",
    "\n",
    "    if sifre == dogru_sifre:\n",
    "        print(\"Doğru şifre! Giriş başarılı.\")\n",
    "        break\n",
    "    else:\n",
    "        hak -= 1\n",
    "        print(\"Yanlış şifre. Kalan deneme hakkı:\", hak)\n",
    "\n",
    "if hak == 0:\n",
    "    print(\"Hesabınız kilitlendi. Lütfen daha sonra tekrar deneyin.\")"
   ]
  },
  {
   "cell_type": "markdown",
   "id": "7acf73ac-3ce2-4be9-966e-d7edb7e48a1b",
   "metadata": {},
   "source": [
    "# **UYGULAMALAR**"
   ]
  },
  {
   "cell_type": "code",
   "execution_count": 21,
   "id": "7e526502-692e-4e4d-9448-76d28cdce1f7",
   "metadata": {},
   "outputs": [
    {
     "name": "stdin",
     "output_type": "stream",
     "text": [
      "Adınız nedir?  Rüveyda\n"
     ]
    }
   ],
   "source": [
    "# 1.uygulama - kullanıcıdan değer alma\n",
    "\n",
    "isim = input(\"Adınız nedir? \")"
   ]
  },
  {
   "cell_type": "code",
   "execution_count": 22,
   "id": "b002a712-29bf-4654-b89f-245b906db027",
   "metadata": {},
   "outputs": [
    {
     "name": "stdin",
     "output_type": "stream",
     "text": [
      "Nerelisiniz?  Türkiye\n"
     ]
    }
   ],
   "source": [
    "ulke = input(\"Nerelisiniz? \")"
   ]
  },
  {
   "cell_type": "code",
   "execution_count": 23,
   "id": "86ee5df5-8a96-4c43-a310-9d7f5747099b",
   "metadata": {},
   "outputs": [
    {
     "name": "stdout",
     "output_type": "stream",
     "text": [
      "Merhaba Rüveyda, Türkiye 'de yaşıyorsunuz.\n"
     ]
    }
   ],
   "source": [
    "print(f\"Merhaba {isim}, {ulke} 'de yaşıyorsunuz.\")"
   ]
  },
  {
   "cell_type": "code",
   "execution_count": 24,
   "id": "94b6d6c2-8c94-4c72-969a-842021e732c2",
   "metadata": {},
   "outputs": [
    {
     "name": "stdin",
     "output_type": "stream",
     "text": [
      "Bir sayı girin:  -5\n"
     ]
    },
    {
     "name": "stdout",
     "output_type": "stream",
     "text": [
      "Negatif bir sayı\n"
     ]
    }
   ],
   "source": [
    "# 2. uygulama: pozitif-negatif sayı kontrolü\n",
    "\n",
    "sayi = int(input(\"Bir sayı girin: \"))\n",
    "\n",
    "if sayi > 0:\n",
    "    print(\"Pozitif bir sayı\")\n",
    "elif sayi < 0:\n",
    "    print(\"Negatif bir sayı\")\n",
    "else:\n",
    "    print(\"Sayı sıfır\")\n"
   ]
  },
  {
   "cell_type": "code",
   "execution_count": 25,
   "id": "ed13766b-b356-4499-b351-b135f83295e0",
   "metadata": {},
   "outputs": [
    {
     "name": "stdin",
     "output_type": "stream",
     "text": [
      "Bir sayı girin:  s\n"
     ]
    },
    {
     "name": "stdout",
     "output_type": "stream",
     "text": [
      "Lütfen sadece rakam girin! Harf veya özel karakter kabul edilmez.\n"
     ]
    }
   ],
   "source": [
    "# 2.uygulama - pozitif-negatif sayı kontrolü  -  try-except yapısı\n",
    "\n",
    "try:\n",
    "    sayi = int(input(\"Bir sayı girin: \"))\n",
    "\n",
    "    if sayi > 0:\n",
    "        print(\"Pozitif bir sayı\")\n",
    "    elif sayi < 0:\n",
    "        print(\"Negatif bir sayı\")\n",
    "    else:\n",
    "        print(\"Sayı sıfır\")\n",
    "\n",
    "except ValueError:\n",
    "    print(\"Lütfen sadece rakam girin! Harf veya özel karakter kabul edilmez.\")"
   ]
  },
  {
   "cell_type": "code",
   "execution_count": 26,
   "id": "36e40ebd-4b10-40a6-a112-9f110e593682",
   "metadata": {},
   "outputs": [
    {
     "name": "stdout",
     "output_type": "stream",
     "text": [
      "1\n",
      "2\n",
      "3\n",
      "4\n",
      "5\n",
      "6\n",
      "7\n",
      "8\n",
      "9\n",
      "10\n"
     ]
    }
   ],
   "source": [
    "# 3.Uygulama: 1'den 10'a kadar sayıları yazdırma\n",
    "\n",
    "for i in range(1, 11):\n",
    "    print(i)"
   ]
  },
  {
   "cell_type": "code",
   "execution_count": 27,
   "id": "569ef7e9-e99d-4f8c-b073-9f2abd5a2221",
   "metadata": {},
   "outputs": [
    {
     "name": "stdin",
     "output_type": "stream",
     "text": [
      "Bir sayı girin:  8\n"
     ]
    },
    {
     "name": "stdout",
     "output_type": "stream",
     "text": [
      "1\n",
      "2\n",
      "3\n",
      "4\n",
      "5\n",
      "6\n",
      "7\n",
      "8\n"
     ]
    }
   ],
   "source": [
    "# 4.Uygulama: Girilen değere kadar sayıları yazdırma\n",
    "\n",
    "sayi = int(input(\"Bir sayı girin: \"))\n",
    "\n",
    "if sayi < 1:\n",
    "        print(\"Hatalı sayı girişi\")\n",
    "else:\n",
    "      for i in range(1, sayi + 1):\n",
    "            print(i)"
   ]
  },
  {
   "cell_type": "code",
   "execution_count": 28,
   "id": "96f508d4-a92b-4b09-bc26-81ac3d1d063f",
   "metadata": {},
   "outputs": [
    {
     "name": "stdin",
     "output_type": "stream",
     "text": [
      "Bir sayı girin: 6\n"
     ]
    },
    {
     "name": "stdout",
     "output_type": "stream",
     "text": [
      "0\n",
      "2\n",
      "4\n",
      "6\n"
     ]
    }
   ],
   "source": [
    "# 5.Uygulama: Girilen sayıya kadar sadece çift sayıları yazdırsın    -  try-except kullanarak\n",
    "\n",
    "try:\n",
    "    sayı = int(input(\"Bir sayı girin:\"))\n",
    "    for i in range(0, sayı + 1, 2):\n",
    "        print(i)\n",
    "except ValueError:\n",
    "    print(\"Lütfen geçerli bir tam sayı giriniz.\")"
   ]
  },
  {
   "cell_type": "code",
   "execution_count": 29,
   "id": "4064d517-f659-453e-8537-396695433d98",
   "metadata": {},
   "outputs": [
    {
     "name": "stdin",
     "output_type": "stream",
     "text": [
      "Kaça kadar yazılsın?  6\n"
     ]
    },
    {
     "name": "stdout",
     "output_type": "stream",
     "text": [
      "1 tektir\n",
      "2 çifttir\n",
      "3 tektir\n",
      "4 çifttir\n",
      "5 tektir\n",
      "6 çifttir\n"
     ]
    }
   ],
   "source": [
    "# 6.Uygulama: Girilen sayıya kadar tek-çift sayıları yazdıran\n",
    "\n",
    "n = int(input(\"Kaça kadar yazılsın? \"))\n",
    "\n",
    "for i in range(1, n + 1):\n",
    "    if i % 2 == 0:\n",
    "        print(i, \"çifttir\")\n",
    "    else:\n",
    "        print(i, \"tektir\")"
   ]
  }
 ],
 "metadata": {
  "kernelspec": {
   "display_name": "Python 3 (ipykernel)",
   "language": "python",
   "name": "python3"
  },
  "language_info": {
   "codemirror_mode": {
    "name": "ipython",
    "version": 3
   },
   "file_extension": ".py",
   "mimetype": "text/x-python",
   "name": "python",
   "nbconvert_exporter": "python",
   "pygments_lexer": "ipython3",
   "version": "3.12.7"
  }
 },
 "nbformat": 4,
 "nbformat_minor": 5
}
